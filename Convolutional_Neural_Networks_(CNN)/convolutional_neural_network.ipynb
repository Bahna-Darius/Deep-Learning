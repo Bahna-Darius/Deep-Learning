{
 "nbformat": 4,
 "nbformat_minor": 0,
 "metadata": {
  "colab": {
   "name": "convolutional_neural_network.ipynb",
   "provenance": [],
   "collapsed_sections": [],
   "toc_visible": true
  },
  "kernelspec": {
   "name": "python3",
   "language": "python",
   "display_name": "Python 3 (ipykernel)"
  }
 },
 "cells": [
  {
   "cell_type": "markdown",
   "metadata": {
    "id": "3DR-eO17geWu",
    "colab_type": "text"
   },
   "source": [
    "# Convolutional Neural Network"
   ]
  },
  {
   "cell_type": "markdown",
   "metadata": {
    "id": "EMefrVPCg-60",
    "colab_type": "text"
   },
   "source": [
    "### Importing the libraries"
   ]
  },
  {
   "cell_type": "code",
   "metadata": {
    "id": "sCV30xyVhFbE",
    "colab_type": "code",
    "colab": {},
    "ExecuteTime": {
     "end_time": "2024-06-21T14:32:00.539104300Z",
     "start_time": "2024-06-21T14:31:56.693327400Z"
    }
   },
   "source": [
    "import tensorflow as tf\n",
    "from keras._tf_keras.keras.preprocessing.image import ImageDataGenerator    # ImageDataGenerator is a class that allows us to augment our images"
   ],
   "execution_count": 1,
   "outputs": []
  },
  {
   "cell_type": "code",
   "metadata": {
    "id": "FIleuCAjoFD8",
    "colab_type": "code",
    "colab": {},
    "ExecuteTime": {
     "end_time": "2024-06-21T14:32:00.552628800Z",
     "start_time": "2024-06-21T14:32:00.545107500Z"
    }
   },
   "source": [
    "tf.__version__"
   ],
   "execution_count": 2,
   "outputs": [
    {
     "data": {
      "text/plain": "'2.16.1'"
     },
     "execution_count": 2,
     "metadata": {},
     "output_type": "execute_result"
    }
   ]
  },
  {
   "cell_type": "markdown",
   "metadata": {
    "id": "oxQxCBWyoGPE",
    "colab_type": "text"
   },
   "source": [
    "## Part 1 - Data Preprocessing\n",
    "## For this part, we will be using the ImageDataGenerator class to augment our images. This will help us to prevent overfitting.\n",
    "## Augmentation is a technique that allows us to enrich our dataset without adding more images. It applies some random transformations on the images so that the model learns more features and the performance is improved."
   ]
  },
  {
   "cell_type": "markdown",
   "metadata": {
    "id": "MvE-heJNo3GG",
    "colab_type": "text"
   },
   "source": [
    "### Preprocessing the Training set"
   ]
  },
  {
   "cell_type": "code",
   "metadata": {
    "id": "0koUcJMJpEBD",
    "colab_type": "code",
    "colab": {},
    "ExecuteTime": {
     "end_time": "2024-06-21T14:32:00.768506Z",
     "start_time": "2024-06-21T14:32:00.548632700Z"
    }
   },
   "source": [
    "train_datagen = ImageDataGenerator(rescale = 1./255,\n",
    "                                   shear_range = 0.2,\n",
    "                                   zoom_range = 0.2,\n",
    "                                   horizontal_flip = True)\n",
    "training_set = train_datagen.flow_from_directory('dataset/training_set',\n",
    "                                                 target_size = (64, 64),\n",
    "                                                 batch_size = 32,\n",
    "                                                 class_mode = 'binary')"
   ],
   "execution_count": 3,
   "outputs": [
    {
     "name": "stdout",
     "output_type": "stream",
     "text": [
      "Found 8000 images belonging to 2 classes.\n"
     ]
    }
   ]
  },
  {
   "cell_type": "markdown",
   "metadata": {
    "id": "mrCMmGw9pHys",
    "colab_type": "text"
   },
   "source": [
    "### Preprocessing the Test set"
   ]
  },
  {
   "cell_type": "code",
   "metadata": {
    "id": "SH4WzfOhpKc3",
    "colab_type": "code",
    "colab": {},
    "ExecuteTime": {
     "end_time": "2024-06-21T14:32:00.842694300Z",
     "start_time": "2024-06-21T14:32:00.769506900Z"
    }
   },
   "source": [
    "test_datagen = ImageDataGenerator(rescale = 1./255)     # Here we only rescale the images because we don't want to apply any transformations on the test set\n",
    "test_set = test_datagen.flow_from_directory('dataset/test_set',\n",
    "                                            target_size = (64, 64),\n",
    "                                            batch_size = 32,\n",
    "                                            class_mode = 'binary')"
   ],
   "execution_count": 4,
   "outputs": [
    {
     "name": "stdout",
     "output_type": "stream",
     "text": [
      "Found 2000 images belonging to 2 classes.\n"
     ]
    }
   ]
  },
  {
   "cell_type": "markdown",
   "metadata": {
    "id": "af8O4l90gk7B",
    "colab_type": "text"
   },
   "source": [
    "## Part 2 - Building the CNN"
   ]
  },
  {
   "cell_type": "markdown",
   "metadata": {
    "id": "ces1gXY2lmoX",
    "colab_type": "text"
   },
   "source": [
    "### Initialising the CNN"
   ]
  },
  {
   "cell_type": "code",
   "metadata": {
    "id": "SAUt4UMPlhLS",
    "colab_type": "code",
    "colab": {},
    "ExecuteTime": {
     "end_time": "2024-06-21T14:32:00.843694300Z",
     "start_time": "2024-06-21T14:32:00.835685500Z"
    }
   },
   "source": [
    "cnn = tf.keras.models.Sequential()"
   ],
   "execution_count": 5,
   "outputs": []
  },
  {
   "cell_type": "markdown",
   "metadata": {
    "id": "u5YJj_XMl5LF",
    "colab_type": "text"
   },
   "source": [
    "### Step 1 - Convolution"
   ]
  },
  {
   "cell_type": "code",
   "metadata": {
    "id": "XPzPrMckl-hV",
    "colab_type": "code",
    "colab": {},
    "ExecuteTime": {
     "end_time": "2024-06-21T14:32:00.914349500Z",
     "start_time": "2024-06-21T14:32:00.842694300Z"
    }
   },
   "source": [
    "cnn.add(tf.keras.layers.Conv2D(filters=32, kernel_size=3, activation='relu', input_shape=[64, 64, 3]))"
   ],
   "execution_count": 6,
   "outputs": [
    {
     "name": "stderr",
     "output_type": "stream",
     "text": [
      "C:\\Users\\Darius\\PycharmProjects\\Deep Learning\\.venv\\Lib\\site-packages\\keras\\src\\layers\\convolutional\\base_conv.py:107: UserWarning: Do not pass an `input_shape`/`input_dim` argument to a layer. When using Sequential models, prefer using an `Input(shape)` object as the first layer in the model instead.\n",
      "  super().__init__(activity_regularizer=activity_regularizer, **kwargs)\n"
     ]
    }
   ]
  },
  {
   "cell_type": "markdown",
   "metadata": {
    "id": "tf87FpvxmNOJ",
    "colab_type": "text"
   },
   "source": [
    "### Step 2 - Pooling"
   ]
  },
  {
   "cell_type": "code",
   "metadata": {
    "id": "ncpqPl69mOac",
    "colab_type": "code",
    "colab": {},
    "ExecuteTime": {
     "end_time": "2024-06-21T14:32:00.932413Z",
     "start_time": "2024-06-21T14:32:00.914349500Z"
    }
   },
   "source": [
    "cnn.add(tf.keras.layers.MaxPool2D(pool_size=2, strides=2))"
   ],
   "execution_count": 7,
   "outputs": []
  },
  {
   "cell_type": "markdown",
   "metadata": {
    "id": "xaTOgD8rm4mU",
    "colab_type": "text"
   },
   "source": [
    "### Adding a second convolutional layer"
   ]
  },
  {
   "cell_type": "code",
   "metadata": {
    "id": "i_-FZjn_m8gk",
    "colab_type": "code",
    "colab": {},
    "ExecuteTime": {
     "end_time": "2024-06-21T14:32:00.961237400Z",
     "start_time": "2024-06-21T14:32:00.928402600Z"
    }
   },
   "source": [
    "cnn.add(tf.keras.layers.Conv2D(filters=32, kernel_size=3, activation='relu'))\n",
    "cnn.add(tf.keras.layers.MaxPool2D(pool_size=2, strides=2))"
   ],
   "execution_count": 8,
   "outputs": []
  },
  {
   "cell_type": "markdown",
   "metadata": {
    "id": "tmiEuvTunKfk",
    "colab_type": "text"
   },
   "source": [
    "### Step 3 - Flattening"
   ]
  },
  {
   "cell_type": "code",
   "metadata": {
    "id": "6AZeOGCvnNZn",
    "colab_type": "code",
    "colab": {},
    "ExecuteTime": {
     "end_time": "2024-06-21T14:32:00.962237800Z",
     "start_time": "2024-06-21T14:32:00.950327800Z"
    }
   },
   "source": [
    "cnn.add(tf.keras.layers.Flatten())"
   ],
   "execution_count": 9,
   "outputs": []
  },
  {
   "cell_type": "markdown",
   "metadata": {
    "id": "dAoSECOm203v",
    "colab_type": "text"
   },
   "source": [
    "### Step 4 - Full Connection"
   ]
  },
  {
   "cell_type": "code",
   "metadata": {
    "id": "8GtmUlLd26Nq",
    "colab_type": "code",
    "colab": {},
    "ExecuteTime": {
     "end_time": "2024-06-21T14:32:01.011193300Z",
     "start_time": "2024-06-21T14:32:00.958237300Z"
    }
   },
   "source": [
    "cnn.add(tf.keras.layers.Dense(units=128, activation='relu'))"
   ],
   "execution_count": 10,
   "outputs": []
  },
  {
   "cell_type": "markdown",
   "metadata": {
    "id": "yTldFvbX28Na",
    "colab_type": "text"
   },
   "source": [
    "### Step 5 - Output Layer"
   ]
  },
  {
   "cell_type": "code",
   "metadata": {
    "id": "1p_Zj1Mc3Ko_",
    "colab_type": "code",
    "colab": {},
    "ExecuteTime": {
     "end_time": "2024-06-21T14:32:01.012201200Z",
     "start_time": "2024-06-21T14:32:00.978294300Z"
    }
   },
   "source": [
    "cnn.add(tf.keras.layers.Dense(units=1, activation='sigmoid'))"
   ],
   "execution_count": 11,
   "outputs": []
  },
  {
   "cell_type": "markdown",
   "metadata": {
    "id": "D6XkI90snSDl",
    "colab_type": "text"
   },
   "source": [
    "## Part 3 - Training the CNN"
   ]
  },
  {
   "cell_type": "markdown",
   "metadata": {
    "id": "vfrFQACEnc6i",
    "colab_type": "text"
   },
   "source": [
    "### Compiling the CNN"
   ]
  },
  {
   "cell_type": "code",
   "metadata": {
    "id": "NALksrNQpUlJ",
    "colab_type": "code",
    "colab": {},
    "ExecuteTime": {
     "end_time": "2024-06-21T14:32:01.014199400Z",
     "start_time": "2024-06-21T14:32:00.994912700Z"
    }
   },
   "source": [
    "cnn.compile(optimizer = 'adam', loss = 'binary_crossentropy', metrics = ['accuracy'])"
   ],
   "execution_count": 12,
   "outputs": []
  },
  {
   "cell_type": "markdown",
   "metadata": {
    "id": "ehS-v3MIpX2h",
    "colab_type": "text"
   },
   "source": [
    "### Training the CNN on the Training set and evaluating it on the Test set"
   ]
  },
  {
   "cell_type": "markdown",
   "source": [],
   "metadata": {
    "collapsed": false
   }
  },
  {
   "cell_type": "code",
   "metadata": {
    "id": "XUj1W4PJptta",
    "colab_type": "code",
    "colab": {},
    "ExecuteTime": {
     "end_time": "2024-06-21T14:41:09.228722400Z",
     "start_time": "2024-06-21T14:32:01.014199400Z"
    }
   },
   "source": [
    "cnn.fit(x = training_set, validation_data = test_set, epochs = 25)"
   ],
   "execution_count": 13,
   "outputs": [
    {
     "name": "stdout",
     "output_type": "stream",
     "text": [
      "Epoch 1/25\n"
     ]
    },
    {
     "name": "stderr",
     "output_type": "stream",
     "text": [
      "C:\\Users\\Darius\\PycharmProjects\\Deep Learning\\.venv\\Lib\\site-packages\\keras\\src\\trainers\\data_adapters\\py_dataset_adapter.py:121: UserWarning: Your `PyDataset` class should call `super().__init__(**kwargs)` in its constructor. `**kwargs` can include `workers`, `use_multiprocessing`, `max_queue_size`. Do not pass these arguments to `fit()`, as they will be ignored.\n",
      "  self._warn_if_super_not_called()\n"
     ]
    },
    {
     "name": "stdout",
     "output_type": "stream",
     "text": [
      "\u001B[1m250/250\u001B[0m \u001B[32m━━━━━━━━━━━━━━━━━━━━\u001B[0m\u001B[37m\u001B[0m \u001B[1m29s\u001B[0m 107ms/step - accuracy: 0.5652 - loss: 0.6769 - val_accuracy: 0.6730 - val_loss: 0.5982\n",
      "Epoch 2/25\n",
      "\u001B[1m250/250\u001B[0m \u001B[32m━━━━━━━━━━━━━━━━━━━━\u001B[0m\u001B[37m\u001B[0m \u001B[1m28s\u001B[0m 111ms/step - accuracy: 0.6801 - loss: 0.5933 - val_accuracy: 0.7345 - val_loss: 0.5401\n",
      "Epoch 3/25\n",
      "\u001B[1m250/250\u001B[0m \u001B[32m━━━━━━━━━━━━━━━━━━━━\u001B[0m\u001B[37m\u001B[0m \u001B[1m28s\u001B[0m 109ms/step - accuracy: 0.7276 - loss: 0.5360 - val_accuracy: 0.6980 - val_loss: 0.5831\n",
      "Epoch 4/25\n",
      "\u001B[1m250/250\u001B[0m \u001B[32m━━━━━━━━━━━━━━━━━━━━\u001B[0m\u001B[37m\u001B[0m \u001B[1m21s\u001B[0m 83ms/step - accuracy: 0.7532 - loss: 0.5044 - val_accuracy: 0.7540 - val_loss: 0.5088\n",
      "Epoch 5/25\n",
      "\u001B[1m250/250\u001B[0m \u001B[32m━━━━━━━━━━━━━━━━━━━━\u001B[0m\u001B[37m\u001B[0m \u001B[1m21s\u001B[0m 83ms/step - accuracy: 0.7739 - loss: 0.4795 - val_accuracy: 0.7765 - val_loss: 0.4681\n",
      "Epoch 6/25\n",
      "\u001B[1m250/250\u001B[0m \u001B[32m━━━━━━━━━━━━━━━━━━━━\u001B[0m\u001B[37m\u001B[0m \u001B[1m21s\u001B[0m 83ms/step - accuracy: 0.7775 - loss: 0.4615 - val_accuracy: 0.7750 - val_loss: 0.4721\n",
      "Epoch 7/25\n",
      "\u001B[1m250/250\u001B[0m \u001B[32m━━━━━━━━━━━━━━━━━━━━\u001B[0m\u001B[37m\u001B[0m \u001B[1m21s\u001B[0m 84ms/step - accuracy: 0.7908 - loss: 0.4456 - val_accuracy: 0.7750 - val_loss: 0.4635\n",
      "Epoch 8/25\n",
      "\u001B[1m250/250\u001B[0m \u001B[32m━━━━━━━━━━━━━━━━━━━━\u001B[0m\u001B[37m\u001B[0m \u001B[1m21s\u001B[0m 83ms/step - accuracy: 0.8012 - loss: 0.4284 - val_accuracy: 0.7355 - val_loss: 0.5327\n",
      "Epoch 9/25\n",
      "\u001B[1m250/250\u001B[0m \u001B[32m━━━━━━━━━━━━━━━━━━━━\u001B[0m\u001B[37m\u001B[0m \u001B[1m21s\u001B[0m 82ms/step - accuracy: 0.8052 - loss: 0.4256 - val_accuracy: 0.7815 - val_loss: 0.4929\n",
      "Epoch 10/25\n",
      "\u001B[1m250/250\u001B[0m \u001B[32m━━━━━━━━━━━━━━━━━━━━\u001B[0m\u001B[37m\u001B[0m \u001B[1m21s\u001B[0m 83ms/step - accuracy: 0.8135 - loss: 0.4027 - val_accuracy: 0.7815 - val_loss: 0.4777\n",
      "Epoch 11/25\n",
      "\u001B[1m250/250\u001B[0m \u001B[32m━━━━━━━━━━━━━━━━━━━━\u001B[0m\u001B[37m\u001B[0m \u001B[1m21s\u001B[0m 82ms/step - accuracy: 0.8253 - loss: 0.3815 - val_accuracy: 0.7805 - val_loss: 0.4703\n",
      "Epoch 12/25\n",
      "\u001B[1m250/250\u001B[0m \u001B[32m━━━━━━━━━━━━━━━━━━━━\u001B[0m\u001B[37m\u001B[0m \u001B[1m21s\u001B[0m 83ms/step - accuracy: 0.8363 - loss: 0.3681 - val_accuracy: 0.7540 - val_loss: 0.5684\n",
      "Epoch 13/25\n",
      "\u001B[1m250/250\u001B[0m \u001B[32m━━━━━━━━━━━━━━━━━━━━\u001B[0m\u001B[37m\u001B[0m \u001B[1m21s\u001B[0m 83ms/step - accuracy: 0.8307 - loss: 0.3642 - val_accuracy: 0.7940 - val_loss: 0.4545\n",
      "Epoch 14/25\n",
      "\u001B[1m250/250\u001B[0m \u001B[32m━━━━━━━━━━━━━━━━━━━━\u001B[0m\u001B[37m\u001B[0m \u001B[1m21s\u001B[0m 82ms/step - accuracy: 0.8454 - loss: 0.3517 - val_accuracy: 0.7950 - val_loss: 0.4605\n",
      "Epoch 15/25\n",
      "\u001B[1m250/250\u001B[0m \u001B[32m━━━━━━━━━━━━━━━━━━━━\u001B[0m\u001B[37m\u001B[0m \u001B[1m21s\u001B[0m 82ms/step - accuracy: 0.8502 - loss: 0.3490 - val_accuracy: 0.8015 - val_loss: 0.4705\n",
      "Epoch 16/25\n",
      "\u001B[1m250/250\u001B[0m \u001B[32m━━━━━━━━━━━━━━━━━━━━\u001B[0m\u001B[37m\u001B[0m \u001B[1m21s\u001B[0m 83ms/step - accuracy: 0.8639 - loss: 0.3103 - val_accuracy: 0.8025 - val_loss: 0.4591\n",
      "Epoch 17/25\n",
      "\u001B[1m250/250\u001B[0m \u001B[32m━━━━━━━━━━━━━━━━━━━━\u001B[0m\u001B[37m\u001B[0m \u001B[1m21s\u001B[0m 82ms/step - accuracy: 0.8711 - loss: 0.3075 - val_accuracy: 0.8025 - val_loss: 0.4656\n",
      "Epoch 18/25\n",
      "\u001B[1m250/250\u001B[0m \u001B[32m━━━━━━━━━━━━━━━━━━━━\u001B[0m\u001B[37m\u001B[0m \u001B[1m21s\u001B[0m 83ms/step - accuracy: 0.8787 - loss: 0.2930 - val_accuracy: 0.8035 - val_loss: 0.4968\n",
      "Epoch 19/25\n",
      "\u001B[1m250/250\u001B[0m \u001B[32m━━━━━━━━━━━━━━━━━━━━\u001B[0m\u001B[37m\u001B[0m \u001B[1m21s\u001B[0m 84ms/step - accuracy: 0.8912 - loss: 0.2660 - val_accuracy: 0.8010 - val_loss: 0.4894\n",
      "Epoch 20/25\n",
      "\u001B[1m250/250\u001B[0m \u001B[32m━━━━━━━━━━━━━━━━━━━━\u001B[0m\u001B[37m\u001B[0m \u001B[1m21s\u001B[0m 82ms/step - accuracy: 0.8837 - loss: 0.2690 - val_accuracy: 0.7980 - val_loss: 0.4753\n",
      "Epoch 21/25\n",
      "\u001B[1m250/250\u001B[0m \u001B[32m━━━━━━━━━━━━━━━━━━━━\u001B[0m\u001B[37m\u001B[0m \u001B[1m21s\u001B[0m 82ms/step - accuracy: 0.8938 - loss: 0.2518 - val_accuracy: 0.7945 - val_loss: 0.5250\n",
      "Epoch 22/25\n",
      "\u001B[1m250/250\u001B[0m \u001B[32m━━━━━━━━━━━━━━━━━━━━\u001B[0m\u001B[37m\u001B[0m \u001B[1m21s\u001B[0m 82ms/step - accuracy: 0.8968 - loss: 0.2433 - val_accuracy: 0.8040 - val_loss: 0.5026\n",
      "Epoch 23/25\n",
      "\u001B[1m250/250\u001B[0m \u001B[32m━━━━━━━━━━━━━━━━━━━━\u001B[0m\u001B[37m\u001B[0m \u001B[1m21s\u001B[0m 82ms/step - accuracy: 0.9087 - loss: 0.2264 - val_accuracy: 0.7935 - val_loss: 0.5280\n",
      "Epoch 24/25\n",
      "\u001B[1m250/250\u001B[0m \u001B[32m━━━━━━━━━━━━━━━━━━━━\u001B[0m\u001B[37m\u001B[0m \u001B[1m21s\u001B[0m 82ms/step - accuracy: 0.9148 - loss: 0.2097 - val_accuracy: 0.7965 - val_loss: 0.5292\n",
      "Epoch 25/25\n",
      "\u001B[1m250/250\u001B[0m \u001B[32m━━━━━━━━━━━━━━━━━━━━\u001B[0m\u001B[37m\u001B[0m \u001B[1m21s\u001B[0m 83ms/step - accuracy: 0.9159 - loss: 0.2135 - val_accuracy: 0.8010 - val_loss: 0.5151\n"
     ]
    },
    {
     "data": {
      "text/plain": "<keras.src.callbacks.history.History at 0x2231145ac10>"
     },
     "execution_count": 13,
     "metadata": {},
     "output_type": "execute_result"
    }
   ]
  },
  {
   "cell_type": "markdown",
   "metadata": {
    "id": "U3PZasO0006Z",
    "colab_type": "text"
   },
   "source": [
    "## Part 4 - Making a single prediction"
   ]
  },
  {
   "cell_type": "code",
   "metadata": {
    "id": "gsSiWEJY1BPB",
    "colab_type": "code",
    "colab": {},
    "ExecuteTime": {
     "end_time": "2024-06-21T14:44:39.932909200Z",
     "start_time": "2024-06-21T14:44:39.727348400Z"
    }
   },
   "source": [
    "import numpy as np\n",
    "from keras._tf_keras.keras.preprocessing import image\n",
    "test_image = image.load_img('dataset/single_prediction/cat_or_dog_2.jpg', target_size = (64, 64))   \n",
    "# 64 because that is the size we used for training the model\n",
    "test_image = image.img_to_array(test_image)\n",
    "test_image = np.expand_dims(test_image, axis = 0)   # we use this to add an extra dimension to the image because the predict method expects a batch\n",
    "result = cnn.predict(test_image)\n",
    "training_set.class_indices  # this will give us the indices of the classes (0 for cats and 1 for dogs)\n",
    "if result[0][0] > 0.5:\n",
    "    prediction = 'dog'\n",
    "else:\n",
    "    prediction = 'cat'"
   ],
   "execution_count": 20,
   "outputs": [
    {
     "name": "stdout",
     "output_type": "stream",
     "text": [
      "\u001B[1m1/1\u001B[0m \u001B[32m━━━━━━━━━━━━━━━━━━━━\u001B[0m\u001B[37m\u001B[0m \u001B[1m0s\u001B[0m 28ms/step\n"
     ]
    }
   ]
  },
  {
   "cell_type": "code",
   "metadata": {
    "id": "ED9KB3I54c1i",
    "colab_type": "code",
    "colab": {},
    "ExecuteTime": {
     "end_time": "2024-06-21T14:44:42.018352200Z",
     "start_time": "2024-06-21T14:44:41.993346400Z"
    }
   },
   "source": [
    "print(prediction)"
   ],
   "execution_count": 21,
   "outputs": [
    {
     "name": "stdout",
     "output_type": "stream",
     "text": [
      "dog\n"
     ]
    }
   ]
  }
 ]
}
