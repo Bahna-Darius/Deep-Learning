{
 "nbformat": 4,
 "nbformat_minor": 0,
 "metadata": {
  "colab": {
   "name": "Boltzmann Machine.ipynb",
   "provenance": [],
   "collapsed_sections": [],
   "toc_visible": true
  },
  "kernelspec": {
   "name": "python3",
   "language": "python",
   "display_name": "Python 3 (ipykernel)"
  }
 },
 "cells": [
  {
   "cell_type": "markdown",
   "metadata": {
    "id": "K4f4JG1gdKqj",
    "colab_type": "text"
   },
   "source": [
    "# Boltzmann Machine"
   ]
  },
  {
   "cell_type": "markdown",
   "metadata": {
    "id": "1jbiqOK7dLGG",
    "colab_type": "text"
   },
   "source": [
    "## Downloading the dataset"
   ]
  },
  {
   "cell_type": "markdown",
   "metadata": {
    "id": "XL5MEkLcfRD2",
    "colab_type": "text"
   },
   "source": [
    "### ML-100K"
   ]
  },
  {
   "cell_type": "code",
   "metadata": {
    "id": "rjOPzue7FCXJ",
    "colab_type": "code",
    "outputId": "44d3a628-f522-4d0d-efdf-009b7d3a28df",
    "colab": {
     "base_uri": "https://localhost:8080/",
     "height": 646
    },
    "ExecuteTime": {
     "end_time": "2024-07-11T11:20:39.174432400Z",
     "start_time": "2024-07-11T11:20:39.138259800Z"
    }
   },
   "source": [
    "# !wget \"http://files.grouplens.org/datasets/movielens/ml-100k.zip\"\n",
    "# !unzip ml-100k.zip\n",
    "# !ls"
   ],
   "execution_count": 1,
   "outputs": []
  },
  {
   "cell_type": "markdown",
   "metadata": {
    "id": "9Xis6ldDfTs6",
    "colab_type": "text"
   },
   "source": [
    "### ML-1M"
   ]
  },
  {
   "cell_type": "code",
   "metadata": {
    "id": "LOly1yfAfTjd",
    "colab_type": "code",
    "outputId": "22029b8c-79f2-46a2-a745-cdce83582b40",
    "colab": {
     "base_uri": "https://localhost:8080/",
     "height": 323
    },
    "ExecuteTime": {
     "end_time": "2024-07-11T11:20:39.175430700Z",
     "start_time": "2024-07-11T11:20:39.142773200Z"
    }
   },
   "source": [
    "# !wget \"http://files.grouplens.org/datasets/movielens/ml-1m.zip\"\n",
    "# !unzip ml-1m.zip\n",
    "# !ls"
   ],
   "execution_count": 2,
   "outputs": []
  },
  {
   "cell_type": "markdown",
   "metadata": {
    "id": "EOBJ8UCXdY0g",
    "colab_type": "text"
   },
   "source": [
    "## Importing the libraries"
   ]
  },
  {
   "cell_type": "code",
   "metadata": {
    "id": "_LvGeU1CeCtg",
    "colab_type": "code",
    "colab": {},
    "ExecuteTime": {
     "end_time": "2024-07-11T11:20:42.860789400Z",
     "start_time": "2024-07-11T11:20:39.153412200Z"
    }
   },
   "source": [
    "import numpy as np\n",
    "import pandas as pd\n",
    "import torch\n",
    "import torch.nn as nn\n",
    "import torch.nn.parallel\n",
    "import torch.optim as optim\n",
    "import torch.utils.data\n",
    "from torch.autograd import Variable"
   ],
   "execution_count": 3,
   "outputs": []
  },
  {
   "cell_type": "markdown",
   "metadata": {
    "id": "pM04FyMudkoK",
    "colab_type": "text"
   },
   "source": [
    "## Importing the dataset\n"
   ]
  },
  {
   "cell_type": "code",
   "metadata": {
    "id": "UJw2p3-Cewo4",
    "colab_type": "code",
    "colab": {},
    "ExecuteTime": {
     "end_time": "2024-07-11T11:20:46.903652300Z",
     "start_time": "2024-07-11T11:20:42.862791200Z"
    }
   },
   "source": [
    "# We won't be using this dataset.\n",
    "movies = pd.read_csv('ml-1m/movies.dat', sep = '::', header = None, engine = 'python', encoding = 'latin-1')\n",
    "users = pd.read_csv('ml-1m/users.dat', sep = '::', header = None, engine = 'python', encoding = 'latin-1')\n",
    "ratings = pd.read_csv('ml-1m/ratings.dat', sep = '::', header = None, engine = 'python', encoding = 'latin-1')"
   ],
   "execution_count": 4,
   "outputs": []
  },
  {
   "cell_type": "markdown",
   "metadata": {
    "id": "yTIbE2tkdkwP",
    "colab_type": "text"
   },
   "source": [
    "## Preparing the training set and the test set\n"
   ]
  },
  {
   "cell_type": "code",
   "metadata": {
    "id": "2usLKJBEgPE2",
    "colab_type": "code",
    "colab": {},
    "ExecuteTime": {
     "end_time": "2024-07-11T11:20:46.950649500Z",
     "start_time": "2024-07-11T11:20:46.906651200Z"
    }
   },
   "source": [
    "training_set = pd.read_csv('ml-100k/u1.base', delimiter = '\\t')\n",
    "training_set = np.array(training_set, dtype = 'int')\n",
    "test_set = pd.read_csv('ml-100k/u1.test', delimiter = '\\t')\n",
    "test_set = np.array(test_set, dtype = 'int')\n",
    "training_set"
   ],
   "execution_count": 5,
   "outputs": [
    {
     "data": {
      "text/plain": "array([[        1,         2,         3, 876893171],\n       [        1,         3,         4, 878542960],\n       [        1,         4,         3, 876893119],\n       ...,\n       [      943,      1188,         3, 888640250],\n       [      943,      1228,         3, 888640275],\n       [      943,      1330,         3, 888692465]])"
     },
     "execution_count": 5,
     "metadata": {},
     "output_type": "execute_result"
    }
   ]
  },
  {
   "cell_type": "markdown",
   "metadata": {
    "id": "zCf8HjSydk4s",
    "colab_type": "text"
   },
   "source": [
    "## Getting the number of users and movies\n"
   ]
  },
  {
   "cell_type": "code",
   "metadata": {
    "id": "gPaGZqdniC5m",
    "colab_type": "code",
    "colab": {},
    "ExecuteTime": {
     "end_time": "2024-07-11T11:20:46.968502100Z",
     "start_time": "2024-07-11T11:20:46.945651700Z"
    }
   },
   "source": [
    "nb_users = int(max(max(training_set[:, 0], ), max(test_set[:, 0])))\n",
    "nb_movies = int(max(max(training_set[:, 1], ), max(test_set[:, 1])))"
   ],
   "execution_count": 6,
   "outputs": []
  },
  {
   "cell_type": "markdown",
   "metadata": {
    "id": "J-w4-hVidlAm",
    "colab_type": "text"
   },
   "source": [
    "## Converting the data into an array with users in lines and movies in columns\n"
   ]
  },
  {
   "cell_type": "code",
   "metadata": {
    "id": "-wASs2YFiDaa",
    "colab_type": "code",
    "colab": {},
    "ExecuteTime": {
     "end_time": "2024-07-11T11:20:47.173730100Z",
     "start_time": "2024-07-11T11:20:46.960502400Z"
    }
   },
   "source": [
    "def convert(data):\n",
    "  new_data = []\n",
    "  for id_users in range(1, nb_users + 1):\n",
    "    condition =  data[:, 0] == id_users\n",
    "    id_movies = data[:, 1] [condition]  \n",
    "    id_ratings = data[:, 2] [data[:, 0] == id_users] #  [data[:, 0] == id_users] is a condition for select value = True , same as [condition]\n",
    "    ratings = np.zeros(nb_movies)\n",
    "    ratings[id_movies - 1] = id_ratings\n",
    "    new_data.append(list(ratings))\n",
    "      \n",
    "  return new_data\n",
    "\n",
    "training_set = convert(training_set)\n",
    "test_set = convert(test_set)"
   ],
   "execution_count": 7,
   "outputs": []
  },
  {
   "cell_type": "markdown",
   "metadata": {
    "id": "AMmhuUpldlHo",
    "colab_type": "text"
   },
   "source": [
    "## Converting the data into Torch tensors\n"
   ]
  },
  {
   "cell_type": "code",
   "metadata": {
    "id": "TwD-KD8yiEEw",
    "colab_type": "code",
    "colab": {},
    "ExecuteTime": {
     "end_time": "2024-07-11T11:20:47.409200700Z",
     "start_time": "2024-07-11T11:20:47.175733300Z"
    }
   },
   "source": [
    "training_set = torch.FloatTensor(training_set)\n",
    "test_set = torch.FloatTensor(test_set)\n",
    "training_set"
   ],
   "execution_count": 8,
   "outputs": [
    {
     "data": {
      "text/plain": "tensor([[0., 3., 4.,  ..., 0., 0., 0.],\n        [4., 0., 0.,  ..., 0., 0., 0.],\n        [0., 0., 0.,  ..., 0., 0., 0.],\n        ...,\n        [5., 0., 0.,  ..., 0., 0., 0.],\n        [0., 0., 0.,  ..., 0., 0., 0.],\n        [0., 5., 0.,  ..., 0., 0., 0.]])"
     },
     "execution_count": 8,
     "metadata": {},
     "output_type": "execute_result"
    }
   ]
  },
  {
   "cell_type": "markdown",
   "metadata": {
    "id": "HIPruubGdlPW",
    "colab_type": "text"
   },
   "source": [
    "## Converting the ratings into binary ratings 1 (Liked) or 0 (Not Liked)\n"
   ]
  },
  {
   "cell_type": "code",
   "metadata": {
    "id": "cslbPSh6iEka",
    "colab_type": "code",
    "colab": {},
    "ExecuteTime": {
     "end_time": "2024-07-11T11:20:47.448930400Z",
     "start_time": "2024-07-11T11:20:47.398203300Z"
    }
   },
   "source": [
    "training_set[training_set == 0] = -1\n",
    "training_set[training_set == 1] = 0\n",
    "training_set[training_set == 2] = 0\n",
    "training_set[training_set >= 3] = 1\n",
    "test_set[test_set == 0] = -1\n",
    "test_set[test_set == 1] = 0\n",
    "test_set[test_set == 2] = 0\n",
    "test_set[test_set >= 3] = 1"
   ],
   "execution_count": 9,
   "outputs": []
  },
  {
   "cell_type": "markdown",
   "metadata": {
    "id": "6kkL8NkkdlZj",
    "colab_type": "text"
   },
   "source": [
    "## Creating the architecture of the Neural Network\n"
   ]
  },
  {
   "cell_type": "code",
   "metadata": {
    "id": "oU2nyh76iE6M",
    "colab_type": "code",
    "colab": {},
    "ExecuteTime": {
     "end_time": "2024-07-11T11:20:47.449930900Z",
     "start_time": "2024-07-11T11:20:47.417871100Z"
    }
   },
   "source": [
    "class RBM:\n",
    "  def __init__(self, nv, nh):\n",
    "    self.W = torch.randn(nh, nv)\n",
    "    self.a = torch.randn(1, nh)\n",
    "    self.b = torch.randn(1, nv)\n",
    "      \n",
    "  def sample_h(self, x):\n",
    "    wx = torch.mm(x, self.W.t())\n",
    "    activation = wx + self.a.expand_as(wx)\n",
    "    p_h_given_v = torch.sigmoid(activation)\n",
    "    return p_h_given_v, torch.bernoulli(p_h_given_v)\n",
    "  \n",
    "  def sample_v(self, y):\n",
    "    wy = torch.mm(y, self.W)\n",
    "    activation = wy + self.b.expand_as(wy)\n",
    "    p_v_given_h = torch.sigmoid(activation)\n",
    "    return p_v_given_h, torch.bernoulli(p_v_given_h)\n",
    "  \n",
    "  def train(self, v0, vk, ph0, phk):\n",
    "    self.W += (torch.mm(v0.t(), ph0) - torch.mm(vk.t(), phk)).t()\n",
    "    self.b += torch.sum((v0 - vk), 0)\n",
    "    self.a += torch.sum((ph0 - phk), 0)\n",
    "      \n",
    "nv = len(training_set[0])\n",
    "nh = 100\n",
    "batch_size = 100\n",
    "\n",
    "rbm = RBM(nv, nh)"
   ],
   "execution_count": 10,
   "outputs": []
  },
  {
   "cell_type": "markdown",
   "metadata": {
    "id": "7gy59alAdloL",
    "colab_type": "text"
   },
   "source": [
    "## Training the RBM\n"
   ]
  },
  {
   "cell_type": "code",
   "metadata": {
    "id": "FEz9hRaciFTs",
    "colab_type": "code",
    "outputId": "677ba886-38ee-43f2-9a2d-bed081429295",
    "colab": {
     "base_uri": "https://localhost:8080/",
     "height": 187
    },
    "ExecuteTime": {
     "end_time": "2024-07-11T11:20:53.838677100Z",
     "start_time": "2024-07-11T11:20:47.431934Z"
    }
   },
   "source": [
    "nb_epoch = 10\n",
    "\n",
    "for epoch in range(1, nb_epoch + 1):\n",
    "  train_loss = 0\n",
    "  s = 0.\n",
    "  \n",
    "  for id_user in range(0, nb_users - batch_size, batch_size):\n",
    "    vk = training_set[id_user : id_user + batch_size]\n",
    "    v0 = training_set[id_user : id_user + batch_size]\n",
    "    ph0,_ = rbm.sample_h(v0)\n",
    "    \n",
    "    for k in range(10):\n",
    "      _,hk = rbm.sample_h(vk)\n",
    "      _,vk = rbm.sample_v(hk)\n",
    "      vk[v0<0] = v0[v0<0]\n",
    "    phk,_ = rbm.sample_h(vk)\n",
    "    rbm.train(v0, vk, ph0, phk)\n",
    "    train_loss += torch.mean(torch.abs(v0[v0 >= 0] - vk[v0 >= 0]))\n",
    "    s += 1.\n",
    "      \n",
    "  print('epoch: '+str(epoch)+' loss: '+str(train_loss/s))"
   ],
   "execution_count": 11,
   "outputs": [
    {
     "name": "stdout",
     "output_type": "stream",
     "text": [
      "epoch: 1 loss: tensor(0.3430)\n",
      "epoch: 2 loss: tensor(0.2471)\n",
      "epoch: 3 loss: tensor(0.2500)\n",
      "epoch: 4 loss: tensor(0.2492)\n",
      "epoch: 5 loss: tensor(0.2504)\n",
      "epoch: 6 loss: tensor(0.2494)\n",
      "epoch: 7 loss: tensor(0.2451)\n",
      "epoch: 8 loss: tensor(0.2483)\n",
      "epoch: 9 loss: tensor(0.2479)\n",
      "epoch: 10 loss: tensor(0.2468)\n"
     ]
    }
   ]
  },
  {
   "cell_type": "markdown",
   "metadata": {
    "id": "Bak5uc8gd-gX",
    "colab_type": "text"
   },
   "source": [
    "## Testing the RBM\n"
   ]
  },
  {
   "cell_type": "code",
   "metadata": {
    "id": "5ztvzYRtiGCz",
    "colab_type": "code",
    "outputId": "2b5ed305-7700-4e25-c59a-5adae77a603a",
    "colab": {
     "base_uri": "https://localhost:8080/",
     "height": 34
    },
    "ExecuteTime": {
     "end_time": "2024-07-11T11:20:54.013551Z",
     "start_time": "2024-07-11T11:20:53.829678100Z"
    }
   },
   "source": [
    "test_loss = 0\n",
    "s = 0.\n",
    "\n",
    "for id_user in range(nb_users):\n",
    "    v = training_set[id_user:id_user+1]\n",
    "    vt = test_set[id_user:id_user+1]\n",
    "    if len(vt[vt>=0]) > 0:\n",
    "        _,h = rbm.sample_h(v)\n",
    "        _,v = rbm.sample_v(h)\n",
    "        test_loss += torch.mean(torch.abs(vt[vt>=0] - v[vt>=0]))\n",
    "        s += 1.\n",
    "        \n",
    "print('test loss: '+str(test_loss/s))"
   ],
   "execution_count": 12,
   "outputs": [
    {
     "name": "stdout",
     "output_type": "stream",
     "text": [
      "test loss: tensor(0.2291)\n"
     ]
    }
   ]
  }
 ]
}
