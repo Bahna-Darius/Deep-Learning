{
 "nbformat": 4,
 "nbformat_minor": 0,
 "metadata": {
  "colab": {
   "name": "AutoEncoders.ipynb",
   "provenance": [],
   "collapsed_sections": [],
   "toc_visible": true
  },
  "kernelspec": {
   "name": "python3",
   "language": "python",
   "display_name": "Python 3 (ipykernel)"
  },
  "accelerator": "GPU"
 },
 "cells": [
  {
   "cell_type": "markdown",
   "metadata": {
    "id": "K4f4JG1gdKqj",
    "colab_type": "text"
   },
   "source": [
    "# AutoEncoders"
   ]
  },
  {
   "cell_type": "markdown",
   "metadata": {
    "id": "1jbiqOK7dLGG",
    "colab_type": "text"
   },
   "source": [
    "## Downloading the dataset"
   ]
  },
  {
   "cell_type": "markdown",
   "metadata": {
    "id": "XL5MEkLcfRD2",
    "colab_type": "text"
   },
   "source": [
    "### ML-100K"
   ]
  },
  {
   "cell_type": "code",
   "metadata": {
    "id": "rjOPzue7FCXJ",
    "colab_type": "code",
    "outputId": "b0f0b631-51bf-49e8-9ad6-947a0bd3d832",
    "colab": {
     "base_uri": "https://localhost:8080/",
     "height": 646
    },
    "ExecuteTime": {
     "end_time": "2024-07-31T13:29:40.334311Z",
     "start_time": "2024-07-31T13:29:40.325794100Z"
    }
   },
   "source": [
    "# !wget \"http://files.grouplens.org/datasets/movielens/ml-100k.zip\"\n",
    "# !unzip ml-100k.zip\n",
    "# !ls"
   ],
   "execution_count": 14,
   "outputs": []
  },
  {
   "cell_type": "markdown",
   "metadata": {
    "id": "9Xis6ldDfTs6",
    "colab_type": "text"
   },
   "source": [
    "###ML-1M"
   ]
  },
  {
   "cell_type": "code",
   "metadata": {
    "id": "LOly1yfAfTjd",
    "colab_type": "code",
    "outputId": "519b7fb3-4f15-4a0b-91d5-8221ee486409",
    "colab": {
     "base_uri": "https://localhost:8080/",
     "height": 323
    },
    "ExecuteTime": {
     "end_time": "2024-07-31T13:29:40.322837300Z",
     "start_time": "2024-07-31T13:29:40.320828400Z"
    }
   },
   "source": [
    "# !wget \"http://files.grouplens.org/datasets/movielens/ml-1m.zip\"\n",
    "# !unzip ml-1m.zip\n",
    "# !ls"
   ],
   "execution_count": 13,
   "outputs": []
  },
  {
   "cell_type": "markdown",
   "metadata": {
    "id": "EOBJ8UCXdY0g",
    "colab_type": "text"
   },
   "source": [
    "## Importing the libraries"
   ]
  },
  {
   "cell_type": "code",
   "metadata": {
    "id": "_LvGeU1CeCtg",
    "colab_type": "code",
    "colab": {},
    "ExecuteTime": {
     "end_time": "2024-07-31T13:23:42.651801400Z",
     "start_time": "2024-07-31T13:23:36.172535100Z"
    }
   },
   "source": [
    "import numpy as np\n",
    "import pandas as pd\n",
    "import torch\n",
    "import torch.nn as nn\n",
    "import torch.nn.parallel\n",
    "import torch.optim as optim\n",
    "import torch.utils.data\n",
    "from torch.autograd import Variable"
   ],
   "execution_count": 3,
   "outputs": []
  },
  {
   "cell_type": "markdown",
   "metadata": {
    "id": "pM04FyMudkoK",
    "colab_type": "text"
   },
   "source": [
    "## Importing the dataset\n"
   ]
  },
  {
   "cell_type": "code",
   "metadata": {
    "id": "UJw2p3-Cewo4",
    "colab_type": "code",
    "colab": {},
    "ExecuteTime": {
     "end_time": "2024-07-31T13:23:48.326305200Z",
     "start_time": "2024-07-31T13:23:42.645268800Z"
    }
   },
   "source": [
    "# We won't be using this dataset.\n",
    "movies = pd.read_csv('ml-1m/movies.dat', sep = '::', header = None, engine = 'python', encoding = 'latin-1')\n",
    "users = pd.read_csv('ml-1m/users.dat', sep = '::', header = None, engine = 'python', encoding = 'latin-1')\n",
    "ratings = pd.read_csv('ml-1m/ratings.dat', sep = '::', header = None, engine = 'python', encoding = 'latin-1')"
   ],
   "execution_count": 4,
   "outputs": []
  },
  {
   "cell_type": "markdown",
   "metadata": {
    "id": "yTIbE2tkdkwP",
    "colab_type": "text"
   },
   "source": [
    "## Preparing the training set and the test set\n"
   ]
  },
  {
   "cell_type": "code",
   "metadata": {
    "id": "2usLKJBEgPE2",
    "colab_type": "code",
    "colab": {},
    "ExecuteTime": {
     "end_time": "2024-07-31T13:23:48.397602Z",
     "start_time": "2024-07-31T13:23:48.329307400Z"
    }
   },
   "source": [
    "training_set = pd.read_csv('ml-100k/u1.base', delimiter = '\\t')\n",
    "training_set = np.array(training_set, dtype = 'int')\n",
    "test_set = pd.read_csv('ml-100k/u1.test', delimiter = '\\t')\n",
    "test_set = np.array(test_set, dtype = 'int')"
   ],
   "execution_count": 5,
   "outputs": []
  },
  {
   "cell_type": "markdown",
   "metadata": {
    "id": "zCf8HjSydk4s",
    "colab_type": "text"
   },
   "source": [
    "## Getting the number of users and movies\n"
   ]
  },
  {
   "cell_type": "code",
   "metadata": {
    "id": "gPaGZqdniC5m",
    "colab_type": "code",
    "colab": {},
    "ExecuteTime": {
     "end_time": "2024-07-31T13:23:48.415377700Z",
     "start_time": "2024-07-31T13:23:48.393573900Z"
    }
   },
   "source": [
    "nb_users = int(max(max(training_set[:, 0], ), max(test_set[:, 0])))\n",
    "nb_movies = int(max(max(training_set[:, 1], ), max(test_set[:, 1])))"
   ],
   "execution_count": 6,
   "outputs": []
  },
  {
   "cell_type": "markdown",
   "metadata": {
    "id": "J-w4-hVidlAm",
    "colab_type": "text"
   },
   "source": [
    "## Converting the data into an array with users in lines and movies in columns\n"
   ]
  },
  {
   "cell_type": "code",
   "metadata": {
    "id": "-wASs2YFiDaa",
    "colab_type": "code",
    "colab": {},
    "ExecuteTime": {
     "end_time": "2024-07-31T13:23:48.744687200Z",
     "start_time": "2024-07-31T13:23:48.415377700Z"
    }
   },
   "source": [
    "def convert(data):\n",
    "  new_data = []\n",
    "  for id_users in range(1, nb_users + 1):\n",
    "    id_movies = data[:, 1] [data[:, 0] == id_users]\n",
    "    id_ratings = data[:, 2] [data[:, 0] == id_users]\n",
    "    ratings = np.zeros(nb_movies)\n",
    "    ratings[id_movies - 1] = id_ratings\n",
    "    new_data.append(list(ratings))\n",
    "      \n",
    "  return new_data\n",
    "\n",
    "training_set = convert(training_set)\n",
    "test_set = convert(test_set)"
   ],
   "execution_count": 7,
   "outputs": []
  },
  {
   "cell_type": "markdown",
   "metadata": {
    "id": "AMmhuUpldlHo",
    "colab_type": "text"
   },
   "source": [
    "## Converting the data into Torch tensors\n"
   ]
  },
  {
   "cell_type": "code",
   "metadata": {
    "id": "TwD-KD8yiEEw",
    "colab_type": "code",
    "colab": {},
    "ExecuteTime": {
     "end_time": "2024-07-31T13:23:49.343341200Z",
     "start_time": "2024-07-31T13:23:48.727669Z"
    }
   },
   "source": [
    "training_set = torch.FloatTensor(training_set)\n",
    "test_set = torch.FloatTensor(test_set)\n",
    "training_set"
   ],
   "execution_count": 8,
   "outputs": [
    {
     "data": {
      "text/plain": "tensor([[0., 3., 4.,  ..., 0., 0., 0.],\n        [4., 0., 0.,  ..., 0., 0., 0.],\n        [0., 0., 0.,  ..., 0., 0., 0.],\n        ...,\n        [5., 0., 0.,  ..., 0., 0., 0.],\n        [0., 0., 0.,  ..., 0., 0., 0.],\n        [0., 5., 0.,  ..., 0., 0., 0.]])"
     },
     "execution_count": 8,
     "metadata": {},
     "output_type": "execute_result"
    }
   ]
  },
  {
   "cell_type": "markdown",
   "metadata": {
    "id": "6kkL8NkkdlZj",
    "colab_type": "text"
   },
   "source": [
    "## Creating the architecture of the Neural Network\n"
   ]
  },
  {
   "cell_type": "code",
   "metadata": {
    "id": "oU2nyh76iE6M",
    "colab_type": "code",
    "colab": {},
    "ExecuteTime": {
     "end_time": "2024-07-31T13:23:51.785620400Z",
     "start_time": "2024-07-31T13:23:49.317730300Z"
    }
   },
   "source": [
    "class SAE(nn.Module):\n",
    "    def __init__(self, ):\n",
    "        super(SAE, self).__init__()\n",
    "        self.fc1 = nn.Linear(nb_movies, 20)\n",
    "        self.fc2 = nn.Linear(20, 10)\n",
    "        self.fc3 = nn.Linear(10, 20)\n",
    "        self.fc4 = nn.Linear(20, nb_movies)\n",
    "        self.activation = nn.Sigmoid()\n",
    "    def forward(self, x):\n",
    "        x = self.activation(self.fc1(x))\n",
    "        x = self.activation(self.fc2(x))\n",
    "        x = self.activation(self.fc3(x))\n",
    "        x = self.fc4(x)\n",
    "        return x\n",
    "sae = SAE()\n",
    "criterion = nn.MSELoss()\n",
    "optimizer = optim.RMSprop(sae.parameters(), lr = 0.01, weight_decay = 0.5)"
   ],
   "execution_count": 9,
   "outputs": []
  },
  {
   "cell_type": "markdown",
   "metadata": {
    "id": "7gy59alAdloL",
    "colab_type": "text"
   },
   "source": [
    "## Training the SAE\n"
   ]
  },
  {
   "cell_type": "code",
   "metadata": {
    "id": "FEz9hRaciFTs",
    "colab_type": "code",
    "outputId": "0f6ed0d0-09c4-46c0-bfe6-70031d76b491",
    "colab": {
     "base_uri": "https://localhost:8080/",
     "height": 1000
    },
    "ExecuteTime": {
     "end_time": "2024-07-31T13:29:40.080134100Z",
     "start_time": "2024-07-31T13:23:51.761962900Z"
    }
   },
   "source": [
    "nb_epoch = 200\n",
    "\n",
    "for epoch in range(1, nb_epoch + 1):\n",
    "  train_loss = 0\n",
    "  s = 0.\n",
    "  \n",
    "  for id_user in range(nb_users):\n",
    "    input = Variable(training_set[id_user]).unsqueeze(0)\n",
    "    target = input.clone()\n",
    "    \n",
    "    if torch.sum(target.data > 0) > 0:\n",
    "      output = sae(input)\n",
    "      target.require_grad = False\n",
    "      output[target == 0] = 0\n",
    "      loss = criterion(output, target)\n",
    "      mean_corrector = nb_movies/float(torch.sum(target.data > 0) + 1e-10)\n",
    "      loss.backward()\n",
    "      train_loss += np.sqrt(loss.data*mean_corrector)\n",
    "      s += 1.\n",
    "      optimizer.step()\n",
    "          \n",
    "          \n",
    "  print('epoch: '+str(epoch)+'loss: '+ str(train_loss/s))"
   ],
   "execution_count": 10,
   "outputs": [
    {
     "name": "stdout",
     "output_type": "stream",
     "text": [
      "epoch: 1loss: tensor(1.7712)\n",
      "epoch: 2loss: tensor(1.0967)\n",
      "epoch: 3loss: tensor(1.0534)\n",
      "epoch: 4loss: tensor(1.0384)\n",
      "epoch: 5loss: tensor(1.0309)\n",
      "epoch: 6loss: tensor(1.0267)\n",
      "epoch: 7loss: tensor(1.0239)\n",
      "epoch: 8loss: tensor(1.0220)\n",
      "epoch: 9loss: tensor(1.0208)\n",
      "epoch: 10loss: tensor(1.0196)\n",
      "epoch: 11loss: tensor(1.0189)\n",
      "epoch: 12loss: tensor(1.0185)\n",
      "epoch: 13loss: tensor(1.0180)\n",
      "epoch: 14loss: tensor(1.0176)\n",
      "epoch: 15loss: tensor(1.0171)\n",
      "epoch: 16loss: tensor(1.0170)\n",
      "epoch: 17loss: tensor(1.0168)\n",
      "epoch: 18loss: tensor(1.0164)\n",
      "epoch: 19loss: tensor(1.0164)\n",
      "epoch: 20loss: tensor(1.0161)\n",
      "epoch: 21loss: tensor(1.0160)\n",
      "epoch: 22loss: tensor(1.0161)\n",
      "epoch: 23loss: tensor(1.0161)\n",
      "epoch: 24loss: tensor(1.0159)\n",
      "epoch: 25loss: tensor(1.0158)\n",
      "epoch: 26loss: tensor(1.0157)\n",
      "epoch: 27loss: tensor(1.0155)\n",
      "epoch: 28loss: tensor(1.0151)\n",
      "epoch: 29loss: tensor(1.0129)\n",
      "epoch: 30loss: tensor(1.0117)\n",
      "epoch: 31loss: tensor(1.0097)\n",
      "epoch: 32loss: tensor(1.0094)\n",
      "epoch: 33loss: tensor(1.0049)\n",
      "epoch: 34loss: tensor(1.0054)\n",
      "epoch: 35loss: tensor(1.0017)\n",
      "epoch: 36loss: tensor(1.0006)\n",
      "epoch: 37loss: tensor(0.9973)\n",
      "epoch: 38loss: tensor(0.9968)\n",
      "epoch: 39loss: tensor(0.9939)\n",
      "epoch: 40loss: tensor(0.9937)\n",
      "epoch: 41loss: tensor(0.9905)\n",
      "epoch: 42loss: tensor(0.9889)\n",
      "epoch: 43loss: tensor(0.9840)\n",
      "epoch: 44loss: tensor(0.9834)\n",
      "epoch: 45loss: tensor(0.9820)\n",
      "epoch: 46loss: tensor(0.9893)\n",
      "epoch: 47loss: tensor(0.9874)\n",
      "epoch: 48loss: tensor(0.9827)\n",
      "epoch: 49loss: tensor(0.9799)\n",
      "epoch: 50loss: tensor(0.9818)\n",
      "epoch: 51loss: tensor(0.9873)\n",
      "epoch: 52loss: tensor(0.9813)\n",
      "epoch: 53loss: tensor(0.9748)\n",
      "epoch: 54loss: tensor(0.9767)\n",
      "epoch: 55loss: tensor(0.9726)\n",
      "epoch: 56loss: tensor(0.9748)\n",
      "epoch: 57loss: tensor(0.9746)\n",
      "epoch: 58loss: tensor(0.9793)\n",
      "epoch: 59loss: tensor(0.9756)\n",
      "epoch: 60loss: tensor(0.9746)\n",
      "epoch: 61loss: tensor(0.9719)\n",
      "epoch: 62loss: tensor(0.9705)\n",
      "epoch: 63loss: tensor(0.9686)\n",
      "epoch: 64loss: tensor(0.9647)\n",
      "epoch: 65loss: tensor(0.9629)\n",
      "epoch: 66loss: tensor(0.9602)\n",
      "epoch: 67loss: tensor(0.9582)\n",
      "epoch: 68loss: tensor(0.9586)\n",
      "epoch: 69loss: tensor(0.9583)\n",
      "epoch: 70loss: tensor(0.9565)\n",
      "epoch: 71loss: tensor(0.9550)\n",
      "epoch: 72loss: tensor(0.9542)\n",
      "epoch: 73loss: tensor(0.9510)\n",
      "epoch: 74loss: tensor(0.9538)\n",
      "epoch: 75loss: tensor(0.9500)\n",
      "epoch: 76loss: tensor(0.9503)\n",
      "epoch: 77loss: tensor(0.9477)\n",
      "epoch: 78loss: tensor(0.9474)\n",
      "epoch: 79loss: tensor(0.9450)\n",
      "epoch: 80loss: tensor(0.9449)\n",
      "epoch: 81loss: tensor(0.9427)\n",
      "epoch: 82loss: tensor(0.9435)\n",
      "epoch: 83loss: tensor(0.9444)\n",
      "epoch: 84loss: tensor(0.9492)\n",
      "epoch: 85loss: tensor(0.9459)\n",
      "epoch: 86loss: tensor(0.9491)\n",
      "epoch: 87loss: tensor(0.9462)\n",
      "epoch: 88loss: tensor(0.9451)\n",
      "epoch: 89loss: tensor(0.9425)\n",
      "epoch: 90loss: tensor(0.9417)\n",
      "epoch: 91loss: tensor(0.9400)\n",
      "epoch: 92loss: tensor(0.9402)\n",
      "epoch: 93loss: tensor(0.9378)\n",
      "epoch: 94loss: tensor(0.9402)\n",
      "epoch: 95loss: tensor(0.9407)\n",
      "epoch: 96loss: tensor(0.9424)\n",
      "epoch: 97loss: tensor(0.9410)\n",
      "epoch: 98loss: tensor(0.9412)\n",
      "epoch: 99loss: tensor(0.9407)\n",
      "epoch: 100loss: tensor(0.9411)\n",
      "epoch: 101loss: tensor(0.9386)\n",
      "epoch: 102loss: tensor(0.9373)\n",
      "epoch: 103loss: tensor(0.9353)\n",
      "epoch: 104loss: tensor(0.9376)\n",
      "epoch: 105loss: tensor(0.9344)\n",
      "epoch: 106loss: tensor(0.9358)\n",
      "epoch: 107loss: tensor(0.9347)\n",
      "epoch: 108loss: tensor(0.9356)\n",
      "epoch: 109loss: tensor(0.9328)\n",
      "epoch: 110loss: tensor(0.9335)\n",
      "epoch: 111loss: tensor(0.9330)\n",
      "epoch: 112loss: tensor(0.9328)\n",
      "epoch: 113loss: tensor(0.9321)\n",
      "epoch: 114loss: tensor(0.9317)\n",
      "epoch: 115loss: tensor(0.9312)\n",
      "epoch: 116loss: tensor(0.9309)\n",
      "epoch: 117loss: tensor(0.9303)\n",
      "epoch: 118loss: tensor(0.9304)\n",
      "epoch: 119loss: tensor(0.9298)\n",
      "epoch: 120loss: tensor(0.9299)\n",
      "epoch: 121loss: tensor(0.9289)\n",
      "epoch: 122loss: tensor(0.9291)\n",
      "epoch: 123loss: tensor(0.9284)\n",
      "epoch: 124loss: tensor(0.9283)\n",
      "epoch: 125loss: tensor(0.9280)\n",
      "epoch: 126loss: tensor(0.9280)\n",
      "epoch: 127loss: tensor(0.9271)\n",
      "epoch: 128loss: tensor(0.9276)\n",
      "epoch: 129loss: tensor(0.9268)\n",
      "epoch: 130loss: tensor(0.9273)\n",
      "epoch: 131loss: tensor(0.9264)\n",
      "epoch: 132loss: tensor(0.9268)\n",
      "epoch: 133loss: tensor(0.9259)\n",
      "epoch: 134loss: tensor(0.9257)\n",
      "epoch: 135loss: tensor(0.9251)\n",
      "epoch: 136loss: tensor(0.9253)\n",
      "epoch: 137loss: tensor(0.9246)\n",
      "epoch: 138loss: tensor(0.9246)\n",
      "epoch: 139loss: tensor(0.9237)\n",
      "epoch: 140loss: tensor(0.9243)\n",
      "epoch: 141loss: tensor(0.9235)\n",
      "epoch: 142loss: tensor(0.9239)\n",
      "epoch: 143loss: tensor(0.9231)\n",
      "epoch: 144loss: tensor(0.9233)\n",
      "epoch: 145loss: tensor(0.9227)\n",
      "epoch: 146loss: tensor(0.9229)\n",
      "epoch: 147loss: tensor(0.9225)\n",
      "epoch: 148loss: tensor(0.9225)\n",
      "epoch: 149loss: tensor(0.9218)\n",
      "epoch: 150loss: tensor(0.9220)\n",
      "epoch: 151loss: tensor(0.9211)\n",
      "epoch: 152loss: tensor(0.9219)\n",
      "epoch: 153loss: tensor(0.9211)\n",
      "epoch: 154loss: tensor(0.9210)\n",
      "epoch: 155loss: tensor(0.9209)\n",
      "epoch: 156loss: tensor(0.9211)\n",
      "epoch: 157loss: tensor(0.9204)\n",
      "epoch: 158loss: tensor(0.9204)\n",
      "epoch: 159loss: tensor(0.9196)\n",
      "epoch: 160loss: tensor(0.9197)\n",
      "epoch: 161loss: tensor(0.9198)\n",
      "epoch: 162loss: tensor(0.9199)\n",
      "epoch: 163loss: tensor(0.9190)\n",
      "epoch: 164loss: tensor(0.9193)\n",
      "epoch: 165loss: tensor(0.9190)\n",
      "epoch: 166loss: tensor(0.9189)\n",
      "epoch: 167loss: tensor(0.9188)\n",
      "epoch: 168loss: tensor(0.9189)\n",
      "epoch: 169loss: tensor(0.9185)\n",
      "epoch: 170loss: tensor(0.9183)\n",
      "epoch: 171loss: tensor(0.9181)\n",
      "epoch: 172loss: tensor(0.9179)\n",
      "epoch: 173loss: tensor(0.9179)\n",
      "epoch: 174loss: tensor(0.9177)\n",
      "epoch: 175loss: tensor(0.9180)\n",
      "epoch: 176loss: tensor(0.9179)\n",
      "epoch: 177loss: tensor(0.9177)\n",
      "epoch: 178loss: tensor(0.9175)\n",
      "epoch: 179loss: tensor(0.9173)\n",
      "epoch: 180loss: tensor(0.9175)\n",
      "epoch: 181loss: tensor(0.9170)\n",
      "epoch: 182loss: tensor(0.9165)\n",
      "epoch: 183loss: tensor(0.9166)\n",
      "epoch: 184loss: tensor(0.9165)\n",
      "epoch: 185loss: tensor(0.9163)\n",
      "epoch: 186loss: tensor(0.9163)\n",
      "epoch: 187loss: tensor(0.9156)\n",
      "epoch: 188loss: tensor(0.9158)\n",
      "epoch: 189loss: tensor(0.9157)\n",
      "epoch: 190loss: tensor(0.9159)\n",
      "epoch: 191loss: tensor(0.9158)\n",
      "epoch: 192loss: tensor(0.9157)\n",
      "epoch: 193loss: tensor(0.9152)\n",
      "epoch: 194loss: tensor(0.9156)\n",
      "epoch: 195loss: tensor(0.9154)\n",
      "epoch: 196loss: tensor(0.9151)\n",
      "epoch: 197loss: tensor(0.9149)\n",
      "epoch: 198loss: tensor(0.9150)\n",
      "epoch: 199loss: tensor(0.9147)\n",
      "epoch: 200loss: tensor(0.9148)\n"
     ]
    }
   ]
  },
  {
   "cell_type": "markdown",
   "metadata": {
    "id": "Bak5uc8gd-gX",
    "colab_type": "text"
   },
   "source": [
    "## Testing the SAE\n"
   ]
  },
  {
   "cell_type": "code",
   "metadata": {
    "id": "5ztvzYRtiGCz",
    "colab_type": "code",
    "outputId": "d0e8ea8b-9ac4-40e5-a19a-7fcfc6934d61",
    "colab": {
     "base_uri": "https://localhost:8080/",
     "height": 34
    },
    "ExecuteTime": {
     "end_time": "2024-07-31T13:29:40.320828400Z",
     "start_time": "2024-07-31T13:29:40.074135100Z"
    }
   },
   "source": [
    "test_loss = 0\n",
    "s = 0.\n",
    "\n",
    "for id_user in range(nb_users):\n",
    "  input = Variable(training_set[id_user]).unsqueeze(0)\n",
    "  target = Variable(test_set[id_user]).unsqueeze(0)\n",
    "  \n",
    "  if torch.sum(target.data > 0) > 0:\n",
    "    output = sae(input)\n",
    "    target.require_grad = False\n",
    "    output[target == 0] = 0\n",
    "    loss = criterion(output, target)\n",
    "    mean_corrector = nb_movies/float(torch.sum(target.data > 0) + 1e-10)\n",
    "    test_loss += np.sqrt(loss.data*mean_corrector)\n",
    "    s += 1.\n",
    "      \n",
    "print('test loss: '+str(test_loss/s))"
   ],
   "execution_count": 11,
   "outputs": [
    {
     "name": "stdout",
     "output_type": "stream",
     "text": [
      "test loss: tensor(0.9500)\n"
     ]
    }
   ]
  }
 ]
}
